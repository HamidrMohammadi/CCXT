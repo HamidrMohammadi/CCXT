{
  "nbformat": 4,
  "nbformat_minor": 0,
  "metadata": {
    "colab": {
      "provenance": []
    },
    "kernelspec": {
      "name": "python3",
      "display_name": "Python 3"
    },
    "language_info": {
      "name": "python"
    }
  },
  "cells": [
    {
      "cell_type": "markdown",
      "source": [
        "CCXT Library"
      ],
      "metadata": {
        "id": "VLC5U0VWrAAj"
      }
    },
    {
      "cell_type": "code",
      "execution_count": null,
      "metadata": {
        "id": "vb8Mc26-nOR0"
      },
      "outputs": [],
      "source": [
        "pip install ccxt"
      ]
    },
    {
      "cell_type": "code",
      "source": [
        "import ccxt"
      ],
      "metadata": {
        "id": "nOs62_UPn2AX"
      },
      "execution_count": null,
      "outputs": []
    },
    {
      "cell_type": "markdown",
      "source": [
        "API Keys"
      ],
      "metadata": {
        "id": "y_xZ31p0q5nx"
      }
    },
    {
      "cell_type": "code",
      "source": [
        "exchange = ccxt.coinex()\n",
        "exchange.requiredCredentials"
      ],
      "metadata": {
        "id": "OW3Y4A9En4FA"
      },
      "execution_count": null,
      "outputs": []
    },
    {
      "cell_type": "code",
      "source": [
        "authentication = {\n",
        "        \"apiKey\": \"\",\n",
        "        \"secret\": \"\",\n",
        "}\n",
        "\n",
        "exchange = ccxt.coinex(authentication)"
      ],
      "metadata": {
        "id": "CwDDpgBEpsvb"
      },
      "execution_count": null,
      "outputs": []
    },
    {
      "cell_type": "code",
      "source": [
        "print(exchange.fetchBalance())"
      ],
      "metadata": {
        "id": "QhjUaNs3rrS3"
      },
      "execution_count": null,
      "outputs": []
    },
    {
      "cell_type": "code",
      "source": [
        "print(exchange.fetchBalance()['USDT'])\n",
        "print(exchange.fetchBalance()['BNB'])"
      ],
      "metadata": {
        "id": "E9pFWGhQr5_-",
        "colab": {
          "base_uri": "https://localhost:8080/"
        },
        "outputId": "4bddf02b-be3f-4d5c-de00-05c9667d7477"
      },
      "execution_count": null,
      "outputs": [
        {
          "output_type": "stream",
          "name": "stdout",
          "text": [
            "{'free': 9.19999999, 'used': 0.0, 'total': 9.19999999}\n",
            "{'free': 0.02746088, 'used': 0.0, 'total': 0.02746088}\n"
          ]
        }
      ]
    },
    {
      "cell_type": "code",
      "source": [
        "usdt_available = exchange.fetchBalance()['USDT']['free']\n",
        "print(usdt_available)\n",
        "bnb_available = exchange.fetchBalance()['BNB']['free']\n",
        "print(bnb_available)"
      ],
      "metadata": {
        "id": "YLh--YSKsSea",
        "colab": {
          "base_uri": "https://localhost:8080/"
        },
        "outputId": "b709ee85-e941-4d85-aa67-cbf2580d805d"
      },
      "execution_count": null,
      "outputs": [
        {
          "output_type": "stream",
          "name": "stdout",
          "text": [
            "9.19999999\n",
            "0.02746088\n"
          ]
        }
      ]
    },
    {
      "cell_type": "code",
      "source": [
        "markets = exchange.loadMarkets()\n",
        "print(markets)"
      ],
      "metadata": {
        "id": "rPDIEmtOs4uW"
      },
      "execution_count": null,
      "outputs": []
    },
    {
      "cell_type": "markdown",
      "source": [
        "Fetch ticker \"Bid Price\""
      ],
      "metadata": {
        "id": "JoJE8U7TuAYy"
      }
    },
    {
      "cell_type": "code",
      "source": [
        "ticker = exchange.fetchTicker('BTC/USDT')\n",
        "print(ticker)"
      ],
      "metadata": {
        "id": "eVaeaCyCt--C"
      },
      "execution_count": null,
      "outputs": []
    },
    {
      "cell_type": "code",
      "source": [
        "print('Bid price is', ticker['bid'],'USDT')"
      ],
      "metadata": {
        "colab": {
          "base_uri": "https://localhost:8080/"
        },
        "id": "rT3ebLgguaj6",
        "outputId": "9bb9968e-1ba7-4752-bbc6-bd1d254d9496"
      },
      "execution_count": null,
      "outputs": [
        {
          "output_type": "stream",
          "name": "stdout",
          "text": [
            "Bid price is 51590.1 USDT\n"
          ]
        }
      ]
    },
    {
      "cell_type": "markdown",
      "source": [
        "Place Orders"
      ],
      "metadata": {
        "id": "8-lzQd7PzRtn"
      }
    },
    {
      "cell_type": "code",
      "source": [
        "symbol = 'ADA/USDT'\n",
        "order_type = 'limit'\n",
        "side = 'buy'\n",
        "\n",
        "base_price = 0.1  # The price at which you want to buy or sell\n",
        "\n",
        "# 1 USDT\n",
        "amount_in_usdt = 10.\n",
        "\n",
        "# amount_in_usdt = usdt_available / 2.\n",
        "current_price = (exchange.fetchTicker(symbol)['ask'] + exchange.fetchTicker(symbol)['bid'] ) / 2\n",
        "amount = amount_in_usdt / current_price\n",
        "\n",
        "order = exchange.createOrder(symbol, order_type, side, amount, base_price)"
      ],
      "metadata": {
        "id": "3xBz0bf8zQlA"
      },
      "execution_count": null,
      "outputs": []
    },
    {
      "cell_type": "code",
      "source": [
        "print(order)"
      ],
      "metadata": {
        "id": "ndcmDlVYzTlU"
      },
      "execution_count": null,
      "outputs": []
    },
    {
      "cell_type": "markdown",
      "source": [
        "Cancel Orders"
      ],
      "metadata": {
        "id": "BD8_BKwkzdns"
      }
    },
    {
      "cell_type": "code",
      "source": [
        "exchange.cancelOrder(order['id'], symbol)"
      ],
      "metadata": {
        "id": "JuOT95XyzYn8"
      },
      "execution_count": null,
      "outputs": []
    }
  ]
}
